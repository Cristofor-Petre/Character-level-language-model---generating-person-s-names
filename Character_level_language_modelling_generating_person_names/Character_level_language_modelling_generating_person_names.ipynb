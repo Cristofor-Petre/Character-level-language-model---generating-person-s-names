{
  "nbformat": 4,
  "nbformat_minor": 0,
  "metadata": {
    "colab": {
      "name": "Character level language modelling - generating person names.ipynb",
      "provenance": [],
      "collapsed_sections": [],
      "toc_visible": true
    },
    "kernelspec": {
      "name": "python3",
      "display_name": "Python 3"
    },
    "accelerator": "GPU"
  },
  "cells": [
    {
      "cell_type": "code",
      "metadata": {
        "id": "fQTDGTPVhfzs",
        "colab_type": "code",
        "outputId": "ac1057a0-92d7-400e-cdc8-d33b7201b09b",
        "colab": {
          "base_uri": "https://localhost:8080/",
          "height": 121
        }
      },
      "source": [
        "from google.colab import drive\n",
        "drive.mount('/content/drive')"
      ],
      "execution_count": 0,
      "outputs": [
        {
          "output_type": "stream",
          "text": [
            "Go to this URL in a browser: https://accounts.google.com/o/oauth2/auth?client_id=947318989803-6bn6qk8qdgf4n4g3pfee6491hc0brc4i.apps.googleusercontent.com&redirect_uri=urn%3aietf%3awg%3aoauth%3a2.0%3aoob&response_type=code&scope=email%20https%3a%2f%2fwww.googleapis.com%2fauth%2fdocs.test%20https%3a%2f%2fwww.googleapis.com%2fauth%2fdrive%20https%3a%2f%2fwww.googleapis.com%2fauth%2fdrive.photos.readonly%20https%3a%2f%2fwww.googleapis.com%2fauth%2fpeopleapi.readonly\n",
            "\n",
            "Enter your authorization code:\n",
            "··········\n",
            "Mounted at /content/drive\n"
          ],
          "name": "stdout"
        }
      ]
    },
    {
      "cell_type": "code",
      "metadata": {
        "id": "5aAa170BYFTM",
        "colab_type": "code",
        "outputId": "8ecbb7f9-0bc4-43b3-a950-71f28e9d1dd7",
        "colab": {
          "base_uri": "https://localhost:8080/",
          "height": 121
        }
      },
      "source": [
        "!pip3 install unidecode"
      ],
      "execution_count": 0,
      "outputs": [
        {
          "output_type": "stream",
          "text": [
            "Collecting unidecode\n",
            "\u001b[?25l  Downloading https://files.pythonhosted.org/packages/d0/42/d9edfed04228bacea2d824904cae367ee9efd05e6cce7ceaaedd0b0ad964/Unidecode-1.1.1-py2.py3-none-any.whl (238kB)\n",
            "\r\u001b[K     |█▍                              | 10kB 24.8MB/s eta 0:00:01\r\u001b[K     |██▊                             | 20kB 31.1MB/s eta 0:00:01\r\u001b[K     |████▏                           | 30kB 36.1MB/s eta 0:00:01\r\u001b[K     |█████▌                          | 40kB 38.3MB/s eta 0:00:01\r\u001b[K     |██████▉                         | 51kB 38.0MB/s eta 0:00:01\r\u001b[K     |████████▎                       | 61kB 39.7MB/s eta 0:00:01\r\u001b[K     |█████████▋                      | 71kB 29.8MB/s eta 0:00:01\r\u001b[K     |███████████                     | 81kB 30.9MB/s eta 0:00:01\r\u001b[K     |████████████▍                   | 92kB 32.6MB/s eta 0:00:01\r\u001b[K     |█████████████▊                  | 102kB 33.5MB/s eta 0:00:01\r\u001b[K     |███████████████▏                | 112kB 33.5MB/s eta 0:00:01\r\u001b[K     |████████████████▌               | 122kB 33.5MB/s eta 0:00:01\r\u001b[K     |█████████████████▉              | 133kB 33.5MB/s eta 0:00:01\r\u001b[K     |███████████████████▎            | 143kB 33.5MB/s eta 0:00:01\r\u001b[K     |████████████████████▋           | 153kB 33.5MB/s eta 0:00:01\r\u001b[K     |██████████████████████          | 163kB 33.5MB/s eta 0:00:01\r\u001b[K     |███████████████████████▍        | 174kB 33.5MB/s eta 0:00:01\r\u001b[K     |████████████████████████▊       | 184kB 33.5MB/s eta 0:00:01\r\u001b[K     |██████████████████████████▏     | 194kB 33.5MB/s eta 0:00:01\r\u001b[K     |███████████████████████████▌    | 204kB 33.5MB/s eta 0:00:01\r\u001b[K     |████████████████████████████▉   | 215kB 33.5MB/s eta 0:00:01\r\u001b[K     |██████████████████████████████▎ | 225kB 33.5MB/s eta 0:00:01\r\u001b[K     |███████████████████████████████▋| 235kB 33.5MB/s eta 0:00:01\r\u001b[K     |████████████████████████████████| 245kB 33.5MB/s \n",
            "\u001b[?25hInstalling collected packages: unidecode\n",
            "Successfully installed unidecode-1.1.1\n"
          ],
          "name": "stdout"
        }
      ]
    },
    {
      "cell_type": "code",
      "metadata": {
        "id": "mxKmjDyglaJs",
        "colab_type": "code",
        "colab": {}
      },
      "source": [
        "import numpy as np\n",
        "import tensorflow as tf\n",
        "import matplotlib.pyplot as plt\n",
        "from unidecode import unidecode\n",
        "import re\n",
        "import pandas as pd\n",
        "from copy import deepcopy\n",
        "from keras.utils import to_categorical\n",
        "from keras.models import Sequential\n",
        "from keras.layers import Dense\n",
        "from keras.layers import LSTM, Input, Dropout, GRU\n",
        "from keras.preprocessing.sequence import pad_sequences\n",
        "from keras.models import Model"
      ],
      "execution_count": 0,
      "outputs": []
    },
    {
      "cell_type": "markdown",
      "metadata": {
        "id": "h2AXeE2wwqs4",
        "colab_type": "text"
      },
      "source": [
        "# Data preprocessing\n",
        "\n",
        "> The dataset can be downloaded from https://github.com/philipperemy/name-dataset\n",
        "\n"
      ]
    },
    {
      "cell_type": "code",
      "metadata": {
        "id": "mdF3p3GCmUac",
        "colab_type": "code",
        "colab": {}
      },
      "source": [
        "file = open('your-path/first_names.all.txt', 'r')\n",
        "data = file.read()\n",
        "file.close()"
      ],
      "execution_count": 0,
      "outputs": []
    },
    {
      "cell_type": "code",
      "metadata": {
        "id": "45e83zNdmyMV",
        "colab_type": "code",
        "colab": {}
      },
      "source": [
        "data = data.lower()\n",
        "data = unidecode(data)\n",
        "data = re.sub('[^a-z\\n]+', '', data)\n",
        "chars = list(set(data))\n",
        "data_size, vocab_size = len(data), len(chars)"
      ],
      "execution_count": 0,
      "outputs": []
    },
    {
      "cell_type": "code",
      "metadata": {
        "id": "3VNOlX7vLw3u",
        "colab_type": "code",
        "outputId": "7747b850-150e-4202-d027-ac0216dd4d99",
        "colab": {
          "base_uri": "https://localhost:8080/",
          "height": 185
        }
      },
      "source": [
        "data_V2 = deepcopy(data)\n",
        "data_V2 = data_V2.split('\\n')\n",
        "data_V2[:10]"
      ],
      "execution_count": 32,
      "outputs": [
        {
          "output_type": "execute_result",
          "data": {
            "text/plain": [
              "['',\n",
              " 'aisha',\n",
              " 'aishah',\n",
              " 'ajay',\n",
              " 'aaisha',\n",
              " 'aaishah',\n",
              " 'aaban',\n",
              " 'aabas',\n",
              " 'aabha',\n",
              " 'aabia']"
            ]
          },
          "metadata": {
            "tags": []
          },
          "execution_count": 32
        }
      ]
    },
    {
      "cell_type": "code",
      "metadata": {
        "id": "ZrUMBtS8okUP",
        "colab_type": "code",
        "outputId": "8a60cf97-a1ad-47b6-b053-e96d1e3be695",
        "colab": {
          "base_uri": "https://localhost:8080/",
          "height": 34
        }
      },
      "source": [
        "print('There are %d total characters and %d unique characters.' % (data_size, vocab_size))\n"
      ],
      "execution_count": 33,
      "outputs": [
        {
          "output_type": "stream",
          "text": [
            "There are 1278347 total characters and 27 unique characters.\n"
          ],
          "name": "stdout"
        }
      ]
    },
    {
      "cell_type": "code",
      "metadata": {
        "id": "AJ5CsOoBpPo1",
        "colab_type": "code",
        "colab": {}
      },
      "source": [
        "char_to_idx = { ch:i for i,ch in enumerate(sorted(chars)) }\n",
        "idx_to_char = { i:ch for i,ch in enumerate(sorted(chars)) }"
      ],
      "execution_count": 0,
      "outputs": []
    },
    {
      "cell_type": "code",
      "metadata": {
        "id": "OBLgOvqjK_CK",
        "colab_type": "code",
        "outputId": "72707282-8ca3-4c9c-99b3-345b64d49ade",
        "colab": {
          "base_uri": "https://localhost:8080/",
          "height": 343
        }
      },
      "source": [
        "df_names = pd.DataFrame({'Character' : [], 'No.examples' : []})\n",
        "\n",
        "for idx, char in idx_to_char.items():\n",
        "  count = sum(map(lambda x : x.startswith(char), data_V2))\n",
        "  df_names.loc[idx] = [char, int(count)]\n",
        "\n",
        "df_names.head(10)"
      ],
      "execution_count": 35,
      "outputs": [
        {
          "output_type": "execute_result",
          "data": {
            "text/html": [
              "<div>\n",
              "<style scoped>\n",
              "    .dataframe tbody tr th:only-of-type {\n",
              "        vertical-align: middle;\n",
              "    }\n",
              "\n",
              "    .dataframe tbody tr th {\n",
              "        vertical-align: top;\n",
              "    }\n",
              "\n",
              "    .dataframe thead th {\n",
              "        text-align: right;\n",
              "    }\n",
              "</style>\n",
              "<table border=\"1\" class=\"dataframe\">\n",
              "  <thead>\n",
              "    <tr style=\"text-align: right;\">\n",
              "      <th></th>\n",
              "      <th>Character</th>\n",
              "      <th>No.examples</th>\n",
              "    </tr>\n",
              "  </thead>\n",
              "  <tbody>\n",
              "    <tr>\n",
              "      <th>0</th>\n",
              "      <td>\\n</td>\n",
              "      <td>0.0</td>\n",
              "    </tr>\n",
              "    <tr>\n",
              "      <th>1</th>\n",
              "      <td>a</td>\n",
              "      <td>15791.0</td>\n",
              "    </tr>\n",
              "    <tr>\n",
              "      <th>2</th>\n",
              "      <td>b</td>\n",
              "      <td>7713.0</td>\n",
              "    </tr>\n",
              "    <tr>\n",
              "      <th>3</th>\n",
              "      <td>c</td>\n",
              "      <td>9539.0</td>\n",
              "    </tr>\n",
              "    <tr>\n",
              "      <th>4</th>\n",
              "      <td>d</td>\n",
              "      <td>9930.0</td>\n",
              "    </tr>\n",
              "    <tr>\n",
              "      <th>5</th>\n",
              "      <td>e</td>\n",
              "      <td>6247.0</td>\n",
              "    </tr>\n",
              "    <tr>\n",
              "      <th>6</th>\n",
              "      <td>f</td>\n",
              "      <td>3569.0</td>\n",
              "    </tr>\n",
              "    <tr>\n",
              "      <th>7</th>\n",
              "      <td>g</td>\n",
              "      <td>5608.0</td>\n",
              "    </tr>\n",
              "    <tr>\n",
              "      <th>8</th>\n",
              "      <td>h</td>\n",
              "      <td>5468.0</td>\n",
              "    </tr>\n",
              "    <tr>\n",
              "      <th>9</th>\n",
              "      <td>i</td>\n",
              "      <td>2930.0</td>\n",
              "    </tr>\n",
              "  </tbody>\n",
              "</table>\n",
              "</div>"
            ],
            "text/plain": [
              "  Character  No.examples\n",
              "0        \\n          0.0\n",
              "1         a      15791.0\n",
              "2         b       7713.0\n",
              "3         c       9539.0\n",
              "4         d       9930.0\n",
              "5         e       6247.0\n",
              "6         f       3569.0\n",
              "7         g       5608.0\n",
              "8         h       5468.0\n",
              "9         i       2930.0"
            ]
          },
          "metadata": {
            "tags": []
          },
          "execution_count": 35
        }
      ]
    },
    {
      "cell_type": "markdown",
      "metadata": {
        "id": "1H0q_DFXwzhM",
        "colab_type": "text"
      },
      "source": [
        "### Distribution of names starting with a certain character"
      ]
    },
    {
      "cell_type": "code",
      "metadata": {
        "id": "yPQQRqmeOjlE",
        "colab_type": "code",
        "outputId": "b56fd315-629d-4247-f54c-d00acd9e80c8",
        "colab": {
          "base_uri": "https://localhost:8080/",
          "height": 717
        }
      },
      "source": [
        "df_names.plot(x = 'Character', y = 'No.examples',kind = 'barh', figsize = (15,12), color=plt.cm.Paired(np.arange(len(df_names))))"
      ],
      "execution_count": 36,
      "outputs": [
        {
          "output_type": "execute_result",
          "data": {
            "text/plain": [
              "<matplotlib.axes._subplots.AxesSubplot at 0x7f6aa90e52e8>"
            ]
          },
          "metadata": {
            "tags": []
          },
          "execution_count": 36
        },
        {
          "output_type": "display_data",
          "data": {
            "image/png": "[encoded data removed]",
            "text/plain": [
              "<Figure size 1080x864 with 1 Axes>"
            ]
          },
          "metadata": {
            "tags": []
          }
        }
      ]
    },
    {
      "cell_type": "code",
      "metadata": {
        "id": "M6lWoGErTSTv",
        "colab_type": "code",
        "colab": {}
      },
      "source": [
        "data_V3 = []\n",
        "for idx, char in idx_to_char.items():\n",
        "  l = list(map(lambda x : x.startswith(char), data_V2))\n",
        "  #count = sum(np.array(l) == True)\n",
        "  #if count >= 2000:\n",
        "  data_V3.extend(list(np.array(data_V2, dtype = object)[l]))\n",
        "\n",
        "\n"
      ],
      "execution_count": 0,
      "outputs": []
    },
    {
      "cell_type": "code",
      "metadata": {
        "id": "ayx3zM-4W6oa",
        "colab_type": "code",
        "outputId": "3327ed34-1c3b-466a-b795-08e86887f8dd",
        "colab": {
          "base_uri": "https://localhost:8080/",
          "height": 34
        }
      },
      "source": [
        "len(data_V3)"
      ],
      "execution_count": 38,
      "outputs": [
        {
          "output_type": "execute_result",
          "data": {
            "text/plain": [
              "164432"
            ]
          },
          "metadata": {
            "tags": []
          },
          "execution_count": 38
        }
      ]
    },
    {
      "cell_type": "markdown",
      "metadata": {
        "id": "l5zqDJAq0I7H",
        "colab_type": "text"
      },
      "source": [
        "### Since i'm using teacher forcing (the network is trained to predict the next characters of the target sequence, given previous characters of the target sequence), the target data is the same as input data, but offset by one (i.e. $y[i] = X[i+1]$) containing an \"end\" character (represented by \\\\n) at the end of each name, also the first character in each example from the input data is the \"start\" character (which i'll encode it as a vector of zeroes)."
      ]
    },
    {
      "cell_type": "code",
      "metadata": {
        "id": "yaoiymo92t9q",
        "colab_type": "code",
        "colab": {}
      },
      "source": [
        "X, y = [],[]\n",
        "\n",
        "for name in data_V3:\n",
        "  seq = [char_to_idx[n] for n in name]\n",
        "  X.append(seq)\n",
        "  y.append(seq + [char_to_idx['\\n']])"
      ],
      "execution_count": 0,
      "outputs": []
    },
    {
      "cell_type": "code",
      "metadata": {
        "id": "3fL80FFv1H85",
        "colab_type": "code",
        "outputId": "1027d985-955c-43a5-b571-145c2635abb9",
        "colab": {
          "base_uri": "https://localhost:8080/",
          "height": 50
        }
      },
      "source": [
        "X = np.array(X)\n",
        "y = np.array(y)\n",
        "print(\"X shape: {}\\ny shape: {}\".format(X.shape,y.shape))"
      ],
      "execution_count": 40,
      "outputs": [
        {
          "output_type": "stream",
          "text": [
            "X shape: (164432,)\n",
            "y shape: (164432,)\n"
          ],
          "name": "stdout"
        }
      ]
    },
    {
      "cell_type": "code",
      "metadata": {
        "id": "u6eywPlil5MY",
        "colab_type": "code",
        "colab": {}
      },
      "source": [
        "X = pad_sequences(X, padding = 'post')\n",
        "X = to_categorical(X, num_classes = vocab_size)\n",
        "y = pad_sequences(y, padding = 'post')\n",
        "y = to_categorical(y, num_classes = vocab_size)"
      ],
      "execution_count": 0,
      "outputs": []
    },
    {
      "cell_type": "code",
      "metadata": {
        "id": "ShQBlpmvZCqp",
        "colab_type": "code",
        "outputId": "c686be4f-de75-4386-ccd8-0e34cf8e90b8",
        "colab": {
          "base_uri": "https://localhost:8080/",
          "height": 50
        }
      },
      "source": [
        "print(\"X shape: {}\\ny shape: {}\".format(X.shape,y.shape))"
      ],
      "execution_count": 42,
      "outputs": [
        {
          "output_type": "stream",
          "text": [
            "X shape: (164432, 22, 27)\n",
            "y shape: (164432, 23, 27)\n"
          ],
          "name": "stdout"
        }
      ]
    },
    {
      "cell_type": "code",
      "metadata": {
        "id": "fStPWE50vhjL",
        "colab_type": "code",
        "colab": {}
      },
      "source": [
        "X = X.reshape(X.shape[0],vocab_size,X.shape[1])\n",
        "#y = y.reshape(y.shape[0],vocab_size,y.shape[1])"
      ],
      "execution_count": 0,
      "outputs": []
    },
    {
      "cell_type": "markdown",
      "metadata": {
        "id": "I_YKtcil1Nwe",
        "colab_type": "text"
      },
      "source": [
        "### Add \"start\" character (encoded as a vector of zeroes) to all examples from the input data"
      ]
    },
    {
      "cell_type": "code",
      "metadata": {
        "id": "LoBfY0tMlCZQ",
        "colab_type": "code",
        "colab": {}
      },
      "source": [
        "start = np.zeros((vocab_size,1))\n",
        "X_new = []\n",
        "for i in range(X.shape[0]):\n",
        "  X_new.append(np.c_[start,X[i]])\n",
        "X_new = np.array(X_new)"
      ],
      "execution_count": 0,
      "outputs": []
    },
    {
      "cell_type": "code",
      "metadata": {
        "id": "R2CNKSKTqQZU",
        "colab_type": "code",
        "colab": {}
      },
      "source": [
        "X_new = X_new.reshape(X_new.shape[0],X_new.shape[2],X_new.shape[1])"
      ],
      "execution_count": 0,
      "outputs": []
    },
    {
      "cell_type": "code",
      "metadata": {
        "id": "UqSG3JlS1PN8",
        "colab_type": "code",
        "outputId": "69507570-7731-48ee-f682-36cd862f1120",
        "colab": {
          "base_uri": "https://localhost:8080/",
          "height": 50
        }
      },
      "source": [
        "print(\"X shape: {}\\ny shape: {}\".format(X_new.shape,y.shape))\n"
      ],
      "execution_count": 46,
      "outputs": [
        {
          "output_type": "stream",
          "text": [
            "X shape: (164432, 23, 27)\n",
            "y shape: (164432, 23, 27)\n"
          ],
          "name": "stdout"
        }
      ]
    },
    {
      "cell_type": "markdown",
      "metadata": {
        "id": "iv4oM3mFacmh",
        "colab_type": "text"
      },
      "source": [
        "#Model"
      ]
    },
    {
      "cell_type": "markdown",
      "metadata": {
        "id": "E6mzQjfOv6Cy",
        "colab_type": "text"
      },
      "source": [
        "### Architecture - 2 lstm layers + dense layer for classification\n",
        "\n",
        "\n",
        "\n",
        "\n",
        "\n",
        "\n",
        "\n",
        "\n",
        "\n"
      ]
    },
    {
      "cell_type": "code",
      "metadata": {
        "id": "r5KVvOEqaeW2",
        "colab_type": "code",
        "colab": {}
      },
      "source": [
        "latent_dim = 50\n",
        "\n",
        "decoder_inputs = Input(shape=(None, vocab_size))\n",
        "\n",
        "decoder_lstm = LSTM(latent_dim, return_sequences=True, return_state=True)\n",
        "decoder_outputs, _, _ = decoder_lstm(decoder_inputs)\n",
        "decoder_outputs = Dropout(rate = 0.5)(decoder_outputs)\n",
        "\n",
        "decoder_lstm_2 = LSTM(latent_dim, return_sequences=True, return_state=True)\n",
        "decoder_outputs_2, _, _ = decoder_lstm_2(decoder_outputs)\n",
        "decoder_outputs_2 =  Dropout(rate = 0.5)(decoder_outputs_2)\n",
        "\n",
        "decoder_dense = Dense(vocab_size, activation='softmax')\n",
        "decoder_outputs_2 = decoder_dense(decoder_outputs_2)"
      ],
      "execution_count": 0,
      "outputs": []
    },
    {
      "cell_type": "code",
      "metadata": {
        "id": "U3dOL1dXb-pC",
        "colab_type": "code",
        "colab": {}
      },
      "source": [
        "model = Model(decoder_inputs, decoder_outputs_2)"
      ],
      "execution_count": 0,
      "outputs": []
    },
    {
      "cell_type": "code",
      "metadata": {
        "id": "xLfPARaQbCAU",
        "colab_type": "code",
        "outputId": "9b1a84b3-d6c2-47d0-ed3e-2cac2db60265",
        "colab": {
          "base_uri": "https://localhost:8080/",
          "height": 353
        }
      },
      "source": [
        "model.summary()"
      ],
      "execution_count": 70,
      "outputs": [
        {
          "output_type": "stream",
          "text": [
            "Model: \"model_6\"\n",
            "_________________________________________________________________\n",
            "Layer (type)                 Output Shape              Param #   \n",
            "=================================================================\n",
            "input_9 (InputLayer)         (None, None, 27)          0         \n",
            "_________________________________________________________________\n",
            "lstm_9 (LSTM)                [(None, None, 50), (None, 15600     \n",
            "_________________________________________________________________\n",
            "dropout_8 (Dropout)          (None, None, 50)          0         \n",
            "_________________________________________________________________\n",
            "lstm_10 (LSTM)               [(None, None, 50), (None, 20200     \n",
            "_________________________________________________________________\n",
            "dropout_9 (Dropout)          (None, None, 50)          0         \n",
            "_________________________________________________________________\n",
            "dense_4 (Dense)              (None, None, 27)          1377      \n",
            "=================================================================\n",
            "Total params: 37,177\n",
            "Trainable params: 37,177\n",
            "Non-trainable params: 0\n",
            "_________________________________________________________________\n"
          ],
          "name": "stdout"
        }
      ]
    },
    {
      "cell_type": "code",
      "metadata": {
        "id": "fTU8JDwjcU48",
        "colab_type": "code",
        "outputId": "672ccecf-6e8d-4fad-a23e-711138240362",
        "colab": {
          "base_uri": "https://localhost:8080/",
          "height": 706
        }
      },
      "source": [
        "model.compile(optimizer='rmsprop', loss='categorical_crossentropy')\n",
        "model.fit(X_new, y,\n",
        "          batch_size=256,\n",
        "          epochs=20,\n",
        "          shuffle=True)"
      ],
      "execution_count": 71,
      "outputs": [
        {
          "output_type": "stream",
          "text": [
            "Epoch 1/20\n",
            "164432/164432 [==============================] - 48s 294us/step - loss: 0.9286\n",
            "Epoch 2/20\n",
            "164432/164432 [==============================] - 45s 274us/step - loss: 0.5841\n",
            "Epoch 3/20\n",
            "164432/164432 [==============================] - 46s 279us/step - loss: 0.4018\n",
            "Epoch 4/20\n",
            "164432/164432 [==============================] - 46s 277us/step - loss: 0.3222\n",
            "Epoch 5/20\n",
            "164432/164432 [==============================] - 45s 275us/step - loss: 0.2782\n",
            "Epoch 6/20\n",
            "164432/164432 [==============================] - 46s 280us/step - loss: 0.2487\n",
            "Epoch 7/20\n",
            "164432/164432 [==============================] - 46s 279us/step - loss: 0.2259\n",
            "Epoch 8/20\n",
            "164432/164432 [==============================] - 46s 283us/step - loss: 0.2076\n",
            "Epoch 9/20\n",
            "164432/164432 [==============================] - 46s 277us/step - loss: 0.1936\n",
            "Epoch 10/20\n",
            "164432/164432 [==============================] - 45s 276us/step - loss: 0.1818\n",
            "Epoch 11/20\n",
            "164432/164432 [==============================] - 46s 280us/step - loss: 0.1727\n",
            "Epoch 12/20\n",
            "164432/164432 [==============================] - 46s 278us/step - loss: 0.1645\n",
            "Epoch 13/20\n",
            "164432/164432 [==============================] - 46s 281us/step - loss: 0.1581\n",
            "Epoch 14/20\n",
            "164432/164432 [==============================] - 46s 277us/step - loss: 0.1525\n",
            "Epoch 15/20\n",
            "164432/164432 [==============================] - 45s 276us/step - loss: 0.1477\n",
            "Epoch 16/20\n",
            "164432/164432 [==============================] - 46s 280us/step - loss: 0.1431\n",
            "Epoch 17/20\n",
            "164432/164432 [==============================] - 46s 281us/step - loss: 0.1393\n",
            "Epoch 18/20\n",
            "164432/164432 [==============================] - 46s 278us/step - loss: 0.1360\n",
            "Epoch 19/20\n",
            "164432/164432 [==============================] - 45s 274us/step - loss: 0.1325\n",
            "Epoch 20/20\n",
            "164432/164432 [==============================] - 46s 278us/step - loss: 0.1297\n"
          ],
          "name": "stdout"
        },
        {
          "output_type": "execute_result",
          "data": {
            "text/plain": [
              "<keras.callbacks.History at 0x7f6aa903f588>"
            ]
          },
          "metadata": {
            "tags": []
          },
          "execution_count": 71
        }
      ]
    },
    {
      "cell_type": "markdown",
      "metadata": {
        "id": "o1A215v9wOsB",
        "colab_type": "text"
      },
      "source": [
        "### Inference setup\n",
        "\n",
        "\n"
      ]
    },
    {
      "cell_type": "code",
      "metadata": {
        "id": "bPMlYRNxh2Xq",
        "colab_type": "code",
        "colab": {}
      },
      "source": [
        "\n",
        "decoder_state_input_h1 = Input(shape=(latent_dim,))\n",
        "decoder_state_input_c1 = Input(shape=(latent_dim,))\n",
        "\n",
        "decoder_state_input_h2 = Input(shape=(latent_dim,))\n",
        "decoder_state_input_c2 = Input(shape=(latent_dim,))\n",
        "\n",
        "decoder_states_inputs = [decoder_state_input_h1, decoder_state_input_c1,\n",
        "                         decoder_state_input_h2, decoder_state_input_c2]\n",
        "\n",
        "decoder_outputs, state_h1, state_c1 = decoder_lstm(decoder_inputs, \n",
        "                                                   initial_state=decoder_states_inputs[:2])\n",
        "\n",
        "decoder_outputs, state_h2, state_c2 = decoder_lstm_2(decoder_outputs, \n",
        "                                                   initial_state=decoder_states_inputs[-2:])\n",
        "\n",
        "\n",
        "decoder_states = [state_h1, state_c1, state_h2, state_c2]\n",
        "\n",
        "\n",
        "decoder_outputs = decoder_dense(decoder_outputs)\n",
        "decoder_model = Model(\n",
        "    [decoder_inputs] + decoder_states_inputs,\n",
        "    [decoder_outputs] + decoder_states)"
      ],
      "execution_count": 0,
      "outputs": []
    },
    {
      "cell_type": "markdown",
      "metadata": {
        "id": "Bn9w_lwHwYmw",
        "colab_type": "text"
      },
      "source": [
        "### Decoding function - generate + decode indexes into text"
      ]
    },
    {
      "cell_type": "code",
      "metadata": {
        "id": "7oyY_8HveXdQ",
        "colab_type": "code",
        "colab": {}
      },
      "source": [
        "def decode_sequence():\n",
        "  \n",
        "    states_value = [np.zeros((1,latent_dim)), np.random.randn(1,latent_dim),\n",
        "                    np.zeros((1,latent_dim)), np.random.randn(1,latent_dim)]\n",
        "\n",
        "    target_seq = np.zeros((1, 1, vocab_size))\n",
        " \n",
        "\n",
        "    stop_condition = False\n",
        "    decoded_sentence = ''\n",
        "    while not stop_condition:\n",
        "        output_tokens, h, c, h1, c1 = decoder_model.predict([target_seq] + states_value)\n",
        "\n",
        "        sampled_token_index = np.argmax(output_tokens[0, -1, :])\n",
        "        sampled_char = idx_to_char[sampled_token_index]\n",
        "        decoded_sentence += sampled_char\n",
        "\n",
        " \n",
        "        if (sampled_char == '\\n' or\n",
        "           len(decoded_sentence) > 50):\n",
        "            stop_condition = True\n",
        "\n",
        "        target_seq = np.zeros((1, 1, vocab_size))\n",
        "        target_seq[0, 0, sampled_token_index] = 1.\n",
        "        states_value = [h, c, h1, c1]\n",
        "\n",
        "    return decoded_sentence"
      ],
      "execution_count": 0,
      "outputs": []
    },
    {
      "cell_type": "code",
      "metadata": {
        "id": "r8rOuQ1rjRKS",
        "colab_type": "code",
        "outputId": "a186ec7f-70fa-462d-8fa3-ba7987dcbe1b",
        "colab": {
          "base_uri": "https://localhost:8080/",
          "height": 689
        }
      },
      "source": [
        "for _ in range(20):\n",
        "  print(decode_sequence())"
      ],
      "execution_count": 87,
      "outputs": [
        {
          "output_type": "stream",
          "text": [
            "tsplg\n",
            "\n",
            "ooonnmjgd\n",
            "\n",
            "yuspnie\n",
            "\n",
            "yusojd\n",
            "\n",
            "tutsolg\n",
            "\n",
            "utoh\n",
            "\n",
            "sroke\n",
            "\n",
            "srplgc\n",
            "\n",
            "eedaaa\n",
            "\n",
            "ywusojd\n",
            "\n",
            "nmlic\n",
            "\n",
            "srplg\n",
            "\n",
            "brrrroonlie\n",
            "\n",
            "zwrle\n",
            "\n",
            "srrpomie\n",
            "\n",
            "ttoke\n",
            "\n",
            "roic\n",
            "\n",
            "vsrnha\n",
            "\n",
            "iiheaa\n",
            "\n",
            "soke\n",
            "\n"
          ],
          "name": "stdout"
        }
      ]
    },
    {
      "cell_type": "code",
      "metadata": {
        "id": "cIv4r0ouGn8L",
        "colab_type": "code",
        "colab": {}
      },
      "source": [
        ""
      ],
      "execution_count": 0,
      "outputs": []
    },
    {
      "cell_type": "markdown",
      "metadata": {
        "id": "D5Mwl82Cx35J",
        "colab_type": "text"
      },
      "source": [
        "# Conclusion\n",
        "\n",
        "> The output of the neural network doesn't seem so great, however we can observe that some of the generated names are quite readable (i.e. the combination of vowels and consonants are alligned in such a way that we could easily pronounce the generated name), so that's a positive thing. One thing i could try is to use GRU's instead of LSTM's since the latter are used for long term dependencies that span many characters in the text, and it doesn't help too much in this case since the names in the dataset are quite short.\n",
        "\n"
      ]
    },
    {
      "cell_type": "code",
      "metadata": {
        "id": "bq8AhwImzTCZ",
        "colab_type": "code",
        "colab": {}
      },
      "source": [
        ""
      ],
      "execution_count": 0,
      "outputs": []
    }
  ]
}
